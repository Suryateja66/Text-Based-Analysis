{
 "cells": [
  {
   "cell_type": "markdown",
   "id": "6e2f3294",
   "metadata": {},
   "source": [
    "# Import needed modules"
   ]
  },
  {
   "cell_type": "code",
   "execution_count": 1,
   "id": "04c7ba65",
   "metadata": {},
   "outputs": [],
   "source": [
    "# Import the stopwords module from the Natural Language Toolkit (nltk) corpus.\n",
    "from nltk.corpus import stopwords #you can remove stop words for speed\n",
    "# Import the cosine_distance function from the nltk.cluster.util module.\n",
    "# This function is used to calculate the cosine distance between two vectors.\n",
    "from nltk.cluster.util import cosine_distance\n",
    "# Import the numpy library and assign it the alias 'np'.\n",
    "# Numpy is a library for efficient numerical computation in Python.\n",
    "import numpy as np\n",
    "# Import the networkx library.\n",
    "# NetworkX is a Python package for the creation, manipulation, and study of the structure, dynamics, and functions of complex networks.\n",
    "import networkx as nx"
   ]
  },
  {
   "cell_type": "markdown",
   "id": "19e9b64f",
   "metadata": {},
   "source": [
    "# Open file and split into sentences"
   ]
  },
  {
   "cell_type": "code",
   "execution_count": 4,
   "id": "12d60aed",
   "metadata": {},
   "outputs": [],
   "source": [
    "# Importing data from data set to variable 'file' \n",
    "file = open(\"C:\\\\Users\\\\tejas\\\\Downloads\\\\Assignment Story.txt\", \"r\")\n",
    "#This file contains one paragraph of multiple sentences\n",
    "filedata = file.readlines()\n",
    "article = filedata[0].split(\". \") #Just do the first paragraph"
   ]
  },
  {
   "cell_type": "code",
   "execution_count": 5,
   "id": "39f8c69f",
   "metadata": {},
   "outputs": [
    {
     "name": "stdout",
     "output_type": "stream",
     "text": [
      "ï»¿Il Ã©tait une fois, dans un pays trÃ¨s lointain, un royaume magique cachÃ© au plus profond dâ€™une forÃªt dense\n",
      "Le royaume s'appelait Â«TextoriaÂ» et Ã©tait gouvernÃ© par un roi sage et juste nommÃ© Â«NltkÂ»\n",
      "Le roi Nltk Ã©tait connu dans tout le pays pour sa remarquable capacitÃ© Ã  comprendre et Ã  analyser la langue de ses sujets.\n",
      "\n"
     ]
    }
   ],
   "source": [
    "sentences = []\n",
    "for sentence in article:\n",
    "    print(sentence)\n",
    "    sentences.append(sentence.replace(\"[^a-zA-Z]\", \" \").split(\" \"))"
   ]
  },
  {
   "cell_type": "markdown",
   "id": "b811ef5a",
   "metadata": {},
   "source": [
    "# Printing list of Sentences"
   ]
  },
  {
   "cell_type": "code",
   "execution_count": 6,
   "id": "2a8c7b71",
   "metadata": {},
   "outputs": [
    {
     "name": "stdout",
     "output_type": "stream",
     "text": [
      "Sentences are  [['ï»¿Il', 'Ã©tait', 'une', 'fois,', 'dans', 'un', 'pays', 'trÃ¨s', 'lointain,', 'un', 'royaume', 'magique', 'cachÃ©', 'au', 'plus', 'profond', 'dâ€™une', 'forÃªt', 'dense'], ['Le', 'royaume', \"s'appelait\", 'Â«TextoriaÂ»', 'et', 'Ã©tait', 'gouvernÃ©', 'par', 'un', 'roi', 'sage', 'et', 'juste', 'nommÃ©', 'Â«NltkÂ»'], ['Le', 'roi', 'Nltk', 'Ã©tait', 'connu', 'dans', 'tout', 'le', 'pays', 'pour', 'sa', 'remarquable', 'capacitÃ©', 'Ã\\xa0', 'comprendre', 'et', 'Ã\\xa0', 'analyser', 'la', 'langue', 'de', 'ses', 'sujets.\\n']]\n"
     ]
    }
   ],
   "source": [
    "print(\"Sentences are \", sentences)"
   ]
  },
  {
   "cell_type": "markdown",
   "id": "bd8b0902",
   "metadata": {},
   "source": [
    "# Function to calculate similarity"
   ]
  },
  {
   "cell_type": "code",
   "execution_count": 7,
   "id": "0596673e",
   "metadata": {},
   "outputs": [],
   "source": [
    "def sentence_similarity(sent1, sent2 ):\n",
    "    sent1 = [w.lower() for w in sent1]\n",
    "    sent2 = [w.lower() for w in sent2]\n",
    "    all_words = list(set(sent1 + sent2))\n",
    "    vector1 = [0] * len(all_words)\n",
    "    vector2 = [0] * len(all_words)\n",
    "    # build the vector for the first sentence\n",
    "    for w in sent1:\n",
    "        vector1[all_words.index(w)] += 1\n",
    "    # build the vector for the second sentence\n",
    "    for w in sent2:\n",
    "        vector2[all_words.index(w)] += 1\n",
    "    return 1 - cosine_distance(vector1, vector2)"
   ]
  },
  {
   "cell_type": "markdown",
   "id": "14dd8783",
   "metadata": {},
   "source": [
    "# Create the similarity matrix"
   ]
  },
  {
   "cell_type": "code",
   "execution_count": 8,
   "id": "284ac842",
   "metadata": {},
   "outputs": [],
   "source": [
    "similarity_matrix = np.zeros((len(sentences), len(sentences)))"
   ]
  },
  {
   "cell_type": "code",
   "execution_count": 9,
   "id": "f5c28215",
   "metadata": {},
   "outputs": [],
   "source": [
    "for idx1 in range(len(sentences)):\n",
    "    for idx2 in range(len(sentences)):\n",
    "        if idx1 == idx2: #ignore if both are same sentences\n",
    "            continue\n",
    "        similarity_matrix[idx1][idx2] = sentence_similarity(sentences[idx1],\n",
    "sentences[idx2])"
   ]
  },
  {
   "cell_type": "code",
   "execution_count": 10,
   "id": "42eafdce",
   "metadata": {},
   "outputs": [
    {
     "name": "stdout",
     "output_type": "stream",
     "text": [
      "Smilarity matrix \n",
      " [[0.         0.21170245 0.12598816]\n",
      " [0.21170245 0.         0.28005602]\n",
      " [0.12598816 0.28005602 0.        ]]\n"
     ]
    }
   ],
   "source": [
    "print(\"Smilarity matrix \\n\", similarity_matrix)"
   ]
  },
  {
   "cell_type": "markdown",
   "id": "3e731c83",
   "metadata": {},
   "source": [
    "# Getting the pagerank scores"
   ]
  },
  {
   "cell_type": "code",
   "execution_count": 11,
   "id": "ec4fb4f8",
   "metadata": {},
   "outputs": [
    {
     "name": "stdout",
     "output_type": "stream",
     "text": [
      "scores {0: 0.2799345218306228, 1: 0.39168645855142875, 2: 0.32837901961794824}\n"
     ]
    }
   ],
   "source": [
    "# Step 3 - Rank sentences in similarity martix\n",
    "sentence_similarity_graph = nx.from_numpy_array(similarity_matrix)\n",
    "scores = nx.pagerank(sentence_similarity_graph)\n",
    "print(\"scores\", scores)"
   ]
  },
  {
   "cell_type": "markdown",
   "id": "77fc6965",
   "metadata": {},
   "source": [
    "# Sort sentences by pagerank"
   ]
  },
  {
   "cell_type": "code",
   "execution_count": 12,
   "id": "495894a2",
   "metadata": {},
   "outputs": [
    {
     "name": "stdout",
     "output_type": "stream",
     "text": [
      "Indexes of top ranked_sentence order are \n",
      "\n",
      " [(0.39168645855142875, ['Le', 'royaume', \"s'appelait\", 'Â«TextoriaÂ»', 'et', 'Ã©tait', 'gouvernÃ©', 'par', 'un', 'roi', 'sage', 'et', 'juste', 'nommÃ©', 'Â«NltkÂ»']), (0.32837901961794824, ['Le', 'roi', 'Nltk', 'Ã©tait', 'connu', 'dans', 'tout', 'le', 'pays', 'pour', 'sa', 'remarquable', 'capacitÃ©', 'Ã\\xa0', 'comprendre', 'et', 'Ã\\xa0', 'analyser', 'la', 'langue', 'de', 'ses', 'sujets.\\n']), (0.2799345218306228, ['ï»¿Il', 'Ã©tait', 'une', 'fois,', 'dans', 'un', 'pays', 'trÃ¨s', 'lointain,', 'un', 'royaume', 'magique', 'cachÃ©', 'au', 'plus', 'profond', 'dâ€™une', 'forÃªt', 'dense'])]\n"
     ]
    }
   ],
   "source": [
    "# Step 4 - Sort the rank and pick top sentences\n",
    "ranked_sentence = sorted(((scores[i],s) for i,s in\n",
    "enumerate(sentences)), reverse=True)\n",
    "print(\"Indexes of top ranked_sentence order are \\n\\n\",\n",
    "ranked_sentence)"
   ]
  },
  {
   "cell_type": "markdown",
   "id": "f6d96b39",
   "metadata": {},
   "source": [
    "# Pick the top “n” sentences"
   ]
  },
  {
   "cell_type": "code",
   "execution_count": 13,
   "id": "5c030289",
   "metadata": {},
   "outputs": [
    {
     "name": "stdout",
     "output_type": "stream",
     "text": [
      "How many sentences do you want in the summary? 1\n"
     ]
    }
   ],
   "source": [
    "#Step 5 - How many sentences to pick\n",
    "n = int(input(\"How many sentences do you want in the summary? \"))\n",
    "#n=2\n",
    "summarize_text = []\n",
    "for i in range(n):\n",
    "    summarize_text.append(\" \".join(ranked_sentence[i][1]))"
   ]
  },
  {
   "cell_type": "markdown",
   "id": "ed5e8160",
   "metadata": {},
   "source": [
    "# Printing Summary"
   ]
  },
  {
   "cell_type": "code",
   "execution_count": 14,
   "id": "6bcf3632",
   "metadata": {},
   "outputs": [
    {
     "name": "stdout",
     "output_type": "stream",
     "text": [
      "Summarize Text: \n",
      " Le royaume s'appelait Â«TextoriaÂ» et Ã©tait gouvernÃ© par un roi sage et juste nommÃ© Â«NltkÂ»\n"
     ]
    }
   ],
   "source": [
    "# Step 6 - Offcourse, output the summarize text\n",
    "print(\"Summarize Text: \\n\", \". \".join(summarize_text))"
   ]
  },
  {
   "cell_type": "code",
   "execution_count": null,
   "id": "f68e33c4",
   "metadata": {},
   "outputs": [],
   "source": []
  }
 ],
 "metadata": {
  "kernelspec": {
   "display_name": "Python 3 (ipykernel)",
   "language": "python",
   "name": "python3"
  },
  "language_info": {
   "codemirror_mode": {
    "name": "ipython",
    "version": 3
   },
   "file_extension": ".py",
   "mimetype": "text/x-python",
   "name": "python",
   "nbconvert_exporter": "python",
   "pygments_lexer": "ipython3",
   "version": "3.11.5"
  }
 },
 "nbformat": 4,
 "nbformat_minor": 5
}
