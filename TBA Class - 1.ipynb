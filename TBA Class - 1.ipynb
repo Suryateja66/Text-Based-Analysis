{
 "cells": [
  {
   "cell_type": "markdown",
   "id": "12704eff",
   "metadata": {},
   "source": [
    "# Python Strings"
   ]
  },
  {
   "cell_type": "code",
   "execution_count": 1,
   "id": "f77c2061",
   "metadata": {},
   "outputs": [
    {
     "name": "stdout",
     "output_type": "stream",
     "text": [
      "Hello\n"
     ]
    }
   ],
   "source": [
    "# Assigning the string \"Hello\" to the variable 'a'\n",
    "a=\"Hello\"\n",
    "# Printing the value of the variable 'a'\n",
    "print(a)"
   ]
  },
  {
   "cell_type": "markdown",
   "id": "f1a4a8ed",
   "metadata": {},
   "source": [
    "## Accessing individual letters"
   ]
  },
  {
   "cell_type": "code",
   "execution_count": 2,
   "id": "3286410c",
   "metadata": {},
   "outputs": [
    {
     "name": "stdout",
     "output_type": "stream",
     "text": [
      "e\n"
     ]
    }
   ],
   "source": [
    "# Assigning the string \"Hello World\" to the variable 'a'\n",
    "a=\"Hello World\"\n",
    "# Printing the character at index 1 in the string stored in variable 'a'\n",
    "print(a[1])"
   ]
  },
  {
   "cell_type": "code",
   "execution_count": 3,
   "id": "e9aad935",
   "metadata": {},
   "outputs": [
    {
     "name": "stdout",
     "output_type": "stream",
     "text": [
      "llo, W\n"
     ]
    }
   ],
   "source": [
    "# Assigning the string \"Hello, World!\" to the variable 'b'\n",
    "b=\"Hello, World!\"\n",
    "# Slicing the string stored in variable 'b' from index 2 (inclusive) to index 8 (exclusive)\n",
    "# This will extract the substring starting from the character at index 2 up to, but not including, the character at index 8\n",
    "print(b[2:8])"
   ]
  },
  {
   "cell_type": "code",
   "execution_count": 4,
   "id": "646d7696",
   "metadata": {},
   "outputs": [
    {
     "name": "stdout",
     "output_type": "stream",
     "text": [
      "13\n"
     ]
    }
   ],
   "source": [
    "# Assigning the string \"Hello, World!\" to the variable 'a'\n",
    "a=\"Hello, World!\"\n",
    "# Finding the length of the string stored in variable 'a'\n",
    "# The len() function returns the number of characters in the string\n",
    "print(len(a))"
   ]
  },
  {
   "cell_type": "code",
   "execution_count": 5,
   "id": "c9d1f642",
   "metadata": {},
   "outputs": [
    {
     "name": "stdout",
     "output_type": "stream",
     "text": [
      "HELLO, WORLD!\n"
     ]
    }
   ],
   "source": [
    "# Using the upper() method to convert all characters in the string stored in variable 'a' to uppercase\n",
    "# This method returns a new string where all alphabetic characters are converted to uppercase\n",
    "print(a.upper())"
   ]
  },
  {
   "cell_type": "code",
   "execution_count": 6,
   "id": "87599411",
   "metadata": {},
   "outputs": [
    {
     "name": "stdout",
     "output_type": "stream",
     "text": [
      "hello, world!\n"
     ]
    }
   ],
   "source": [
    "# Using the lower() method to convert all characters in the string stored in variable 'a' to lowercase\n",
    "# This method returns a new string where all alphabetic characters are converted to lowercase\n",
    "print(a.lower())"
   ]
  },
  {
   "cell_type": "code",
   "execution_count": 7,
   "id": "b5291e0e",
   "metadata": {},
   "outputs": [
    {
     "name": "stdout",
     "output_type": "stream",
     "text": [
      "Jello, World!\n"
     ]
    }
   ],
   "source": [
    "# Using the replace() method to replace all occurrences of the character \"H\" with the character \"J\"\n",
    "# This method returns a new string where all occurrences of the specified substring are replaced with the specified replacement string\n",
    "print(a.replace(\"H\", \"J\"))"
   ]
  },
  {
   "cell_type": "markdown",
   "id": "366ad1f9",
   "metadata": {},
   "source": [
    "## String ConcatenATION"
   ]
  },
  {
   "cell_type": "code",
   "execution_count": 8,
   "id": "8569a799",
   "metadata": {},
   "outputs": [
    {
     "name": "stdout",
     "output_type": "stream",
     "text": [
      "Hello World5\n"
     ]
    }
   ],
   "source": [
    "# Assigning the string \"Hello\" to the variable 'a'\n",
    "a = \"Hello\"\n",
    "# Assigning the string \"World5\" to the variable 'b'\n",
    "b = \"World5\"\n",
    "# Concatenating the strings stored in variables 'a' and 'b', along with a space in between, and assigning the result to variable 'c'\n",
    "# The '+' operator is used for string concatenation, which joins two strings together\n",
    "c = a + \" \" + b\n",
    "# Printing the concatenated string stored in variable 'c'\n",
    "print(c)"
   ]
  },
  {
   "cell_type": "markdown",
   "id": "08e607e5",
   "metadata": {},
   "source": [
    "## String Methods"
   ]
  },
  {
   "cell_type": "code",
   "execution_count": 9,
   "id": "d08f8168",
   "metadata": {},
   "outputs": [
    {
     "data": {
      "text/plain": [
       "True"
      ]
     },
     "execution_count": 9,
     "metadata": {},
     "output_type": "execute_result"
    }
   ],
   "source": [
    "# Assigning the string \"Surya\" to the variable 'a'\n",
    "a=\"Surya\"\n",
    "# Using the isalnum() method to check if all characters in the string are alphanumeric (consists of only letters and numbers)\n",
    "# This method returns True if all characters are alphanumeric, otherwise returns False\n",
    "a.isalnum()"
   ]
  },
  {
   "cell_type": "code",
   "execution_count": 19,
   "id": "e0795286",
   "metadata": {},
   "outputs": [
    {
     "data": {
      "text/plain": [
       "True"
      ]
     },
     "execution_count": 19,
     "metadata": {},
     "output_type": "execute_result"
    }
   ],
   "source": [
    "# Using the isalpha() method to check if all characters in the string are alphabetic (consists of only letters)\n",
    "# This method returns True if all characters are alphabetic, otherwise returns False\n",
    "a.isalpha()"
   ]
  },
  {
   "cell_type": "code",
   "execution_count": 11,
   "id": "326b3336",
   "metadata": {},
   "outputs": [
    {
     "data": {
      "text/plain": [
       "False"
      ]
     },
     "execution_count": 11,
     "metadata": {},
     "output_type": "execute_result"
    }
   ],
   "source": [
    "# Using the isdigit() method to check if all characters in the string are digits (numeric characters)\n",
    "# This method returns True if all characters are digits, otherwise returns False\n",
    "b.isdigit()"
   ]
  },
  {
   "cell_type": "code",
   "execution_count": 12,
   "id": "8f2f1609",
   "metadata": {},
   "outputs": [
    {
     "data": {
      "text/plain": [
       "False"
      ]
     },
     "execution_count": 12,
     "metadata": {},
     "output_type": "execute_result"
    }
   ],
   "source": [
    "# Using the islower() method to check if all characters in the string are lowercase alphabetic characters\n",
    "# This method returns True if all alphabetic characters in the string are lowercase, otherwise returns False\n",
    "a.islower()"
   ]
  },
  {
   "cell_type": "code",
   "execution_count": 13,
   "id": "d08fd985",
   "metadata": {},
   "outputs": [
    {
     "data": {
      "text/plain": [
       "False"
      ]
     },
     "execution_count": 13,
     "metadata": {},
     "output_type": "execute_result"
    }
   ],
   "source": [
    "# Using the isspace() method to check if all characters in the string are whitespace characters\n",
    "# This method returns True if all characters in the string are whitespace, otherwise returns False\n",
    "b.isspace()"
   ]
  },
  {
   "cell_type": "code",
   "execution_count": 14,
   "id": "c5a73322",
   "metadata": {},
   "outputs": [
    {
     "data": {
      "text/plain": [
       "False"
      ]
     },
     "execution_count": 14,
     "metadata": {},
     "output_type": "execute_result"
    }
   ],
   "source": [
    "# Using the isupper() method to check if all characters in the string are uppercase alphabetic characters\n",
    "# This method returns True if all alphabetic characters in the string are uppercase, otherwise returns False\n",
    "a.isupper()"
   ]
  },
  {
   "cell_type": "code",
   "execution_count": 15,
   "id": "f9ae726a",
   "metadata": {},
   "outputs": [],
   "source": [
    "# Assigning the string \"hello\" to the variable 'a'\n",
    "a = \"hello\"\n",
    "# Assigning the string \" World5\" to the variable 'b'\n",
    "b = \" World5\"\n",
    "# Assigning the string \"SURYA\" to the variable 'c'\n",
    "c = \"SURYA\""
   ]
  },
  {
   "cell_type": "code",
   "execution_count": 16,
   "id": "d95cac49",
   "metadata": {},
   "outputs": [
    {
     "data": {
      "text/plain": [
       "'surya'"
      ]
     },
     "execution_count": 16,
     "metadata": {},
     "output_type": "execute_result"
    }
   ],
   "source": [
    "# Using the lower() method to convert all characters in the string stored in variable 'c' to lowercase\n",
    "# This method returns a new string where all alphabetic characters are converted to lowercase\n",
    "c.lower()"
   ]
  },
  {
   "cell_type": "code",
   "execution_count": 17,
   "id": "adcf1ed9",
   "metadata": {},
   "outputs": [
    {
     "data": {
      "text/plain": [
       "'World5'"
      ]
     },
     "execution_count": 17,
     "metadata": {},
     "output_type": "execute_result"
    }
   ],
   "source": [
    "# Using the lstrip() method to remove leading whitespace characters from the string stored in variable 'b'\n",
    "# This method returns a new string with leading whitespace characters removed\n",
    "b.lstrip()"
   ]
  },
  {
   "cell_type": "code",
   "execution_count": 18,
   "id": "7506c0d2",
   "metadata": {},
   "outputs": [
    {
     "data": {
      "text/plain": [
       "' World5'"
      ]
     },
     "execution_count": 18,
     "metadata": {},
     "output_type": "execute_result"
    }
   ],
   "source": [
    "# Using the lstrip() method with the argument '5' to remove leading occurrences of the specified character '5' from the string stored in variable 'b'\n",
    "# This method returns a new string with leading occurrences of the specified character removed\n",
    "b.lstrip('5')"
   ]
  },
  {
   "cell_type": "code",
   "execution_count": 36,
   "id": "a43dcf31",
   "metadata": {},
   "outputs": [
    {
     "data": {
      "text/plain": [
       "'World5'"
      ]
     },
     "execution_count": 36,
     "metadata": {},
     "output_type": "execute_result"
    }
   ],
   "source": [
    "# Using the strip() method to remove leading and trailing whitespace characters from the string stored in variable 'b'\n",
    "# This method returns a new string with leading and trailing whitespace characters removed\n",
    "b.strip()"
   ]
  },
  {
   "cell_type": "code",
   "execution_count": 19,
   "id": "9b542579",
   "metadata": {},
   "outputs": [
    {
     "data": {
      "text/plain": [
       "'HELLO'"
      ]
     },
     "execution_count": 19,
     "metadata": {},
     "output_type": "execute_result"
    }
   ],
   "source": [
    "# Using the upper() method to convert all characters in the string stored in variable 'a' to uppercase\n",
    "# This method returns a new string where all alphabetic characters are converted to uppercase\n",
    "a.upper()"
   ]
  },
  {
   "cell_type": "code",
   "execution_count": 20,
   "id": "acf2fca6",
   "metadata": {},
   "outputs": [
    {
     "data": {
      "text/plain": [
       "True"
      ]
     },
     "execution_count": 20,
     "metadata": {},
     "output_type": "execute_result"
    }
   ],
   "source": [
    "# Using the endswith() method to check if the string stored in variable 'b' ends with the specified substring \"5\"\n",
    "# This method returns True if the string ends with the specified substring, otherwise returns False\n",
    "b.endswith(\"5\")"
   ]
  },
  {
   "cell_type": "code",
   "execution_count": 41,
   "id": "e4dda785",
   "metadata": {},
   "outputs": [
    {
     "data": {
      "text/plain": [
       "False"
      ]
     },
     "execution_count": 41,
     "metadata": {},
     "output_type": "execute_result"
    }
   ],
   "source": [
    "# Using the startswith() method to check if the string stored in variable 'a' starts with the specified character \"u\"\n",
    "# This method returns True if the string starts with the specified character, otherwise returns False\n",
    "a.startswith(\"u\")"
   ]
  },
  {
   "cell_type": "code",
   "execution_count": 44,
   "id": "b81cae95",
   "metadata": {},
   "outputs": [
    {
     "data": {
      "text/plain": [
       "3"
      ]
     },
     "execution_count": 44,
     "metadata": {},
     "output_type": "execute_result"
    }
   ],
   "source": [
    "# Using the find() method to search for the index of the first occurrence of the substring \"Y\" in the string stored in variable 'c'\n",
    "# This method returns the index of the first occurrence of the specified substring if found, otherwise returns -1\n",
    "c.find(\"Y\")"
   ]
  },
  {
   "cell_type": "markdown",
   "id": "a9fb1f6a",
   "metadata": {},
   "source": [
    "## Regular Expression"
   ]
  },
  {
   "cell_type": "code",
   "execution_count": 21,
   "id": "e668889d",
   "metadata": {},
   "outputs": [
    {
     "name": "stdout",
     "output_type": "stream",
     "text": [
      "['abc', 'abc', 'abc', 'abc', 'abc']\n"
     ]
    }
   ],
   "source": [
    "# Importing the 'regex' module as 're' to use regular expression functionalities\n",
    "import regex as re\n",
    "# Defining a function named 'tokenize' that takes a text as input\n",
    "def tokenize(text):\n",
    "    # Using the findall() function from the 're' module to find all occurrences of the regex pattern 'abc' in the input text\n",
    "    # The regex pattern 'abc' matches the substring \"abc\" in the text\n",
    "    # This function returns a list of all non-overlapping occurrences of the pattern in the text\n",
    "    return re.findall(r'abc', text)\n",
    "# Calling the tokenize function with a sample text as input\n",
    "x = tokenize(\"abcd 45abc abc% abc.com acbrx .=.abc.=. ab c cba ABC \")\n",
    "# Printing the result obtained from the tokenize function\n",
    "print(x)"
   ]
  },
  {
   "cell_type": "code",
   "execution_count": 22,
   "id": "421ef435",
   "metadata": {},
   "outputs": [
    {
     "name": "stdout",
     "output_type": "stream",
     "text": [
      "['gooey', 'moody', 'roody', 'goofy', 'loopy']\n"
     ]
    }
   ],
   "source": [
    "# Importing the 'regex' module as 're' to use regular expression functionalities\n",
    "import regex as re\n",
    "# Defining a function named 'tokenize' that takes a text as input\n",
    "def tokenize(text):\n",
    "    # Using the findall() function from the 're' module to find all occurrences of the regex pattern '.oo.y' in the input text\n",
    "    # The regex pattern '.oo.y' matches any string containing exactly five characters where the second and fourth characters are 'o'\n",
    "    # The dot '.' matches any character except a newline, and the 'o' matches the character 'o' literally\n",
    "    # This function returns a list of all non-overlapping occurrences of the pattern in the text\n",
    "    return re.findall(r'.oo.y', text)\n",
    "# Calling the tokenize function with a sample text as input\n",
    "x = tokenize(\" abcd gooey moody broody goofy gummy mooooudy loopy ooy \")\n",
    "# Printing the result obtained from the tokenize function\n",
    "print(x)"
   ]
  },
  {
   "cell_type": "code",
   "execution_count": null,
   "id": "13374ce8",
   "metadata": {},
   "outputs": [],
   "source": []
  }
 ],
 "metadata": {
  "kernelspec": {
   "display_name": "Python 3 (ipykernel)",
   "language": "python",
   "name": "python3"
  },
  "language_info": {
   "codemirror_mode": {
    "name": "ipython",
    "version": 3
   },
   "file_extension": ".py",
   "mimetype": "text/x-python",
   "name": "python",
   "nbconvert_exporter": "python",
   "pygments_lexer": "ipython3",
   "version": "3.11.5"
  }
 },
 "nbformat": 4,
 "nbformat_minor": 5
}
