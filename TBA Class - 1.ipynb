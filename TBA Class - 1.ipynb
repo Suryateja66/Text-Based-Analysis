{
 "cells": [
  {
   "cell_type": "markdown",
   "id": "20ee03b4",
   "metadata": {},
   "source": [
    "## Assigning String to a Variable"
   ]
  },
  {
   "cell_type": "code",
   "execution_count": 1,
   "id": "9be47752",
   "metadata": {},
   "outputs": [],
   "source": [
    "# Assigning string 'Hello' to variable a\n",
    "a = \"Hello\""
   ]
  },
  {
   "cell_type": "code",
   "execution_count": 3,
   "id": "15363f2b",
   "metadata": {},
   "outputs": [
    {
     "name": "stdout",
     "output_type": "stream",
     "text": [
      "Hello\n"
     ]
    }
   ],
   "source": [
    "# Printing variable a\n",
    "print(a)"
   ]
  },
  {
   "cell_type": "markdown",
   "id": "cb15d3bc",
   "metadata": {},
   "source": [
    "## Indexing"
   ]
  },
  {
   "cell_type": "code",
   "execution_count": 4,
   "id": "a2d4d4f0",
   "metadata": {},
   "outputs": [
    {
     "name": "stdout",
     "output_type": "stream",
     "text": [
      "e\n"
     ]
    }
   ],
   "source": [
    "# Assigning string 'Hello! world' to variable a\n",
    "a = \"Hello! world\"\n",
    "\n",
    "# Printing index 1 of variable a\n",
    "print(a[1])"
   ]
  },
  {
   "cell_type": "markdown",
   "id": "4b8497dd",
   "metadata": {},
   "source": [
    "## Slicing"
   ]
  },
  {
   "cell_type": "code",
   "execution_count": 5,
   "id": "0d0ef857",
   "metadata": {},
   "outputs": [
    {
     "name": "stdout",
     "output_type": "stream",
     "text": [
      "ello! world\n"
     ]
    }
   ],
   "source": [
    "# Assigning string 'Hello! world' to variable b\n",
    "b = \"Hello! world\"\n",
    "\n",
    "# Printing part of the string of variable b\n",
    "print(b[1:])"
   ]
  },
  {
   "cell_type": "markdown",
   "id": "483fc0ce",
   "metadata": {},
   "source": [
    "## Concatenation"
   ]
  },
  {
   "cell_type": "code",
   "execution_count": 6,
   "id": "ff1db21f",
   "metadata": {},
   "outputs": [
    {
     "name": "stdout",
     "output_type": "stream",
     "text": [
      "Hello world\n"
     ]
    }
   ],
   "source": [
    "# Assigning string 'Hello' to variable a\n",
    "a = \"Hello\"\n",
    "\n",
    "# Assigning string 'world' to variable b\n",
    "b = \"world\"\n",
    "\n",
    "#Adding two strings to the variable c\n",
    "c = a + \" \" + b\n",
    "\n",
    "#printing the variable c\n",
    "print(c)"
   ]
  },
  {
   "cell_type": "markdown",
   "id": "35a4ff9d",
   "metadata": {},
   "source": [
    "## Length"
   ]
  },
  {
   "cell_type": "code",
   "execution_count": 8,
   "id": "07a5aef8",
   "metadata": {},
   "outputs": [
    {
     "name": "stdout",
     "output_type": "stream",
     "text": [
      "12\n"
     ]
    }
   ],
   "source": [
    "# Assigning string 'Hello! world' to variable a\n",
    "a = \"Hello! world\"\n",
    "\n",
    "#Printing the length of the variable a\n",
    "print(len(a))"
   ]
  },
  {
   "cell_type": "markdown",
   "id": "7901e3e3",
   "metadata": {},
   "source": [
    "## isupper()"
   ]
  },
  {
   "cell_type": "code",
   "execution_count": 11,
   "id": "68a37772",
   "metadata": {},
   "outputs": [
    {
     "name": "stdout",
     "output_type": "stream",
     "text": [
      "False\n"
     ]
    }
   ],
   "source": [
    "# Assigning string 'Hello, world' to variable b\n",
    "b = \"Hello, world\"\n",
    "\n",
    "#Printing isupper() to check whether the string contains upper characters or not\n",
    "print(b.isupper())"
   ]
  },
  {
   "cell_type": "markdown",
   "id": "e3d39822",
   "metadata": {},
   "source": [
    "## isalnum()"
   ]
  },
  {
   "cell_type": "code",
   "execution_count": 12,
   "id": "260a153b",
   "metadata": {},
   "outputs": [
    {
     "name": "stdout",
     "output_type": "stream",
     "text": [
      "False\n"
     ]
    }
   ],
   "source": [
    "# Assigning string 'Hello, world' to variable b\n",
    "b = \"Hello, world\"\n",
    "\n",
    "#Printing isalnum() to check whether the string contains alpha numeric characters or not\n",
    "print(b.isalnum())"
   ]
  },
  {
   "cell_type": "markdown",
   "id": "3090ad1c",
   "metadata": {},
   "source": [
    "## islower()"
   ]
  },
  {
   "cell_type": "code",
   "execution_count": 13,
   "id": "dafa4f8d",
   "metadata": {},
   "outputs": [
    {
     "name": "stdout",
     "output_type": "stream",
     "text": [
      "False\n"
     ]
    }
   ],
   "source": [
    "# Assigning string 'Hello, world' to variable b\n",
    "b = \"Hello, world\"\n",
    "\n",
    "#Printing islower() to check whether the string contains lower characters or not\n",
    "print(b.islower())"
   ]
  },
  {
   "cell_type": "markdown",
   "id": "b02d234a",
   "metadata": {},
   "source": [
    "## isdigit()"
   ]
  },
  {
   "cell_type": "code",
   "execution_count": 14,
   "id": "79fdb0f3",
   "metadata": {},
   "outputs": [
    {
     "name": "stdout",
     "output_type": "stream",
     "text": [
      "False\n"
     ]
    }
   ],
   "source": [
    "# Assigning string 'Hello, world' to variable b\n",
    "b = \"Hello, world\"\n",
    "\n",
    "#Printing isdigit() to check whether the string contains digits or not\n",
    "print(b.isdigit())"
   ]
  },
  {
   "cell_type": "markdown",
   "id": "f6c2efdd",
   "metadata": {},
   "source": [
    "## lower()"
   ]
  },
  {
   "cell_type": "code",
   "execution_count": 15,
   "id": "6c5244bc",
   "metadata": {},
   "outputs": [
    {
     "name": "stdout",
     "output_type": "stream",
     "text": [
      "hello, world\n"
     ]
    }
   ],
   "source": [
    "# Assigning string 'HELLO, WORLD' to variable a\n",
    "a = \"HELLO, WORLD\"\n",
    "\n",
    "#Printing lower() to print the string in the lowercase\n",
    "print(a.lower())"
   ]
  },
  {
   "cell_type": "markdown",
   "id": "66eb5d87",
   "metadata": {},
   "source": [
    "## rstrip()"
   ]
  },
  {
   "cell_type": "code",
   "execution_count": 16,
   "id": "0786e3fe",
   "metadata": {},
   "outputs": [
    {
     "name": "stdout",
     "output_type": "stream",
     "text": [
      "Hello, world\n"
     ]
    }
   ],
   "source": [
    "# Assigning string 'Hello, world' to variable a\n",
    "a = \"Hello, world\"\n",
    "\n",
    "#Returns a copy of the string with all trailing whitespace characters removed\n",
    "print(a.rstrip())"
   ]
  },
  {
   "cell_type": "markdown",
   "id": "46368cdf",
   "metadata": {},
   "source": [
    "## lstrip()"
   ]
  },
  {
   "cell_type": "code",
   "execution_count": 17,
   "id": "71580bf6",
   "metadata": {},
   "outputs": [
    {
     "name": "stdout",
     "output_type": "stream",
     "text": [
      "Hello, world\n"
     ]
    }
   ],
   "source": [
    "# Assigning string 'Hello, world' to variable a\n",
    "a = \"Hello, world\"\n",
    "\n",
    "#Returns a copy of the string with all leading whitespace characters removed\n",
    "print(a.lstrip())"
   ]
  },
  {
   "cell_type": "markdown",
   "id": "fdaf4c3f",
   "metadata": {},
   "source": [
    "## upper()"
   ]
  },
  {
   "cell_type": "code",
   "execution_count": 18,
   "id": "f777d6f7",
   "metadata": {},
   "outputs": [
    {
     "name": "stdout",
     "output_type": "stream",
     "text": [
      "HELLO, WORLD\n"
     ]
    }
   ],
   "source": [
    "# Assigning string 'hello, world' to variable a\n",
    "a = \"hello, world\"\n",
    "\n",
    "#Printing upper() to print the string in the uppercase\n",
    "print(a.upper())"
   ]
  },
  {
   "cell_type": "markdown",
   "id": "dae087cb",
   "metadata": {},
   "source": [
    "## strip()"
   ]
  },
  {
   "cell_type": "code",
   "execution_count": 20,
   "id": "e90c554c",
   "metadata": {},
   "outputs": [
    {
     "name": "stdout",
     "output_type": "stream",
     "text": [
      "hello, world\n"
     ]
    }
   ],
   "source": [
    "# Assigning string 'hello, world' to variable a\n",
    "a = \"hello, world\"\n",
    "\n",
    "#Printing the strip() with all the white characters removed\n",
    "print(a.strip())"
   ]
  },
  {
   "cell_type": "markdown",
   "id": "0d19dc3a",
   "metadata": {},
   "source": [
    "## startswith()"
   ]
  },
  {
   "cell_type": "code",
   "execution_count": 22,
   "id": "a97da774",
   "metadata": {},
   "outputs": [
    {
     "name": "stdout",
     "output_type": "stream",
     "text": [
      "False\n"
     ]
    }
   ],
   "source": [
    "# Assigning string 'Hello, world' to variable a\n",
    "a = \"Hello, world\"\n",
    "\n",
    "#Using startswith(char) to check whether the string starts with char or not\n",
    "print(a.startswith(\"hell\"))"
   ]
  },
  {
   "cell_type": "code",
   "execution_count": 23,
   "id": "208b0b9b",
   "metadata": {},
   "outputs": [
    {
     "name": "stdout",
     "output_type": "stream",
     "text": [
      "True\n"
     ]
    }
   ],
   "source": [
    "# Assigning string 'Hello, world' to variable a\n",
    "a = \"Hello, world\"\n",
    "\n",
    "#Using startswith(char) to check whether the string starts with char or not\n",
    "print(a.startswith(\"Hell\"))"
   ]
  },
  {
   "cell_type": "markdown",
   "id": "d94ae56f",
   "metadata": {},
   "source": [
    "## endswith()"
   ]
  },
  {
   "cell_type": "code",
   "execution_count": 24,
   "id": "902e3507",
   "metadata": {},
   "outputs": [
    {
     "name": "stdout",
     "output_type": "stream",
     "text": [
      "True\n"
     ]
    }
   ],
   "source": [
    "# Assigning string 'Hello, world' to variable a\n",
    "a = \"Hello, world\"\n",
    "\n",
    "#Using endswith(char) to check whether the string ends with char or not\n",
    "print(a.endswith(\"orld\"))"
   ]
  },
  {
   "cell_type": "code",
   "execution_count": 26,
   "id": "07010e35",
   "metadata": {},
   "outputs": [
    {
     "name": "stdout",
     "output_type": "stream",
     "text": [
      "False\n"
     ]
    }
   ],
   "source": [
    "# Assigning string 'Hello, world' to variable a\n",
    "a = \"Hello world\"\n",
    "\n",
    "#Using endswith(char) to check whether the string ends with char or not\n",
    "print(a.endswith(\"hell\"))"
   ]
  },
  {
   "cell_type": "markdown",
   "id": "22f71172",
   "metadata": {},
   "source": [
    "## find()"
   ]
  },
  {
   "cell_type": "code",
   "execution_count": 27,
   "id": "29b90d00",
   "metadata": {},
   "outputs": [
    {
     "name": "stdout",
     "output_type": "stream",
     "text": [
      "-1\n"
     ]
    }
   ],
   "source": [
    "# Assigning string 'Hello, world' to variable a\n",
    "a = \"Hello, world\"\n",
    "\n",
    "#Using find(char) to return the lowest index of the character\n",
    "print(a.find(\"hell\"))"
   ]
  },
  {
   "cell_type": "code",
   "execution_count": 28,
   "id": "a07ffc35",
   "metadata": {},
   "outputs": [
    {
     "name": "stdout",
     "output_type": "stream",
     "text": [
      "8\n"
     ]
    }
   ],
   "source": [
    "#Using find(char) to return the lowest index of the character\n",
    "print(a.find(\"orld\"))"
   ]
  },
  {
   "cell_type": "code",
   "execution_count": 29,
   "id": "396e9cb5",
   "metadata": {},
   "outputs": [
    {
     "name": "stdout",
     "output_type": "stream",
     "text": [
      "9\n"
     ]
    }
   ],
   "source": [
    "#Using find(char) to return the lowest index of the character\n",
    "print(a.find(\"r\"))"
   ]
  },
  {
   "cell_type": "markdown",
   "id": "6c43d5dd",
   "metadata": {},
   "source": [
    "## replace()"
   ]
  },
  {
   "cell_type": "code",
   "execution_count": 30,
   "id": "c5192ee4",
   "metadata": {},
   "outputs": [
    {
     "name": "stdout",
     "output_type": "stream",
     "text": [
      "Hello, World\n"
     ]
    }
   ],
   "source": [
    "#Using replace(old, new) to replace new with the old\n",
    "print(a.replace(\"w\", \"W\"))"
   ]
  },
  {
   "cell_type": "code",
   "execution_count": 31,
   "id": "73183981",
   "metadata": {},
   "outputs": [
    {
     "name": "stdout",
     "output_type": "stream",
     "text": [
      "Hello, world\n"
     ]
    }
   ],
   "source": [
    "#Using replace(old, new) to replace new with the old\n",
    "print(a.replace(\"h\", \"H\"))"
   ]
  },
  {
   "cell_type": "markdown",
   "id": "274cfcaf",
   "metadata": {},
   "source": [
    "## Repetition"
   ]
  },
  {
   "cell_type": "code",
   "execution_count": 41,
   "id": "e53795db",
   "metadata": {},
   "outputs": [
    {
     "name": "stdout",
     "output_type": "stream",
     "text": [
      "Hello, world\n",
      "Hello, world\n",
      "Hello, world\n",
      "\n"
     ]
    }
   ],
   "source": [
    "# Assigning string 'Hello, world' to variable a with a \\n character to continue in the next line\n",
    "a = \"Hello, world\\n\"\n",
    "\n",
    "#Printing the repetition of a 3 times\n",
    "print(a*3)"
   ]
  },
  {
   "cell_type": "markdown",
   "id": "9bd44db9",
   "metadata": {},
   "source": [
    "## Split"
   ]
  },
  {
   "cell_type": "code",
   "execution_count": 43,
   "id": "d734f6e3",
   "metadata": {},
   "outputs": [
    {
     "data": {
      "text/plain": [
       "['Welcome', 'to', 'my', 'world']"
      ]
     },
     "execution_count": 43,
     "metadata": {},
     "output_type": "execute_result"
    }
   ],
   "source": [
    "# Assigning string 'Welcome to my world' to variable a\n",
    "a = \"Welcome to my world\"\n",
    "\n",
    "#split() the variable a and stored it in variable b\n",
    "b = a.split()\n",
    "\n",
    "#Printing the variable b\n",
    "b"
   ]
  },
  {
   "cell_type": "markdown",
   "id": "da56b704",
   "metadata": {},
   "source": [
    "## Regex - 1"
   ]
  },
  {
   "cell_type": "code",
   "execution_count": 47,
   "id": "6d995807",
   "metadata": {},
   "outputs": [
    {
     "data": {
      "text/plain": [
       "['abc', 'abc', 'abc', 'abc', 'abc']"
      ]
     },
     "execution_count": 47,
     "metadata": {},
     "output_type": "execute_result"
    }
   ],
   "source": [
    "import regex as re\n",
    "def tokenize(text):\n",
    "    return re.findall(r'abc', text)\n",
    "x = tokenize(\"abcd 45abc abc% abc.com acbrx .=.abc.=. ab c cba ABC \")\n",
    "x"
   ]
  },
  {
   "cell_type": "markdown",
   "id": "b68e9c6d",
   "metadata": {},
   "source": [
    "## Regex - 2"
   ]
  },
  {
   "cell_type": "code",
   "execution_count": 48,
   "id": "70f30d9d",
   "metadata": {},
   "outputs": [
    {
     "data": {
      "text/plain": [
       "['gooey', 'moody', 'roody', 'goofy', 'loopy']"
      ]
     },
     "execution_count": 48,
     "metadata": {},
     "output_type": "execute_result"
    }
   ],
   "source": [
    "import regex as re\n",
    "def tokenize(text):\n",
    "    return re.findall(r'.oo.y', text)\n",
    "\n",
    "x = tokenize(\" abcd gooey moody broody goofy gummy mooooudy loopy ooy \")\n",
    "x"
   ]
  },
  {
   "cell_type": "markdown",
   "id": "04cb9a57",
   "metadata": {},
   "source": [
    "## Regex - 3"
   ]
  },
  {
   "cell_type": "code",
   "execution_count": 49,
   "id": "fac4a4fa",
   "metadata": {},
   "outputs": [
    {
     "data": {
      "text/plain": [
       "['abc.abc.com', 'abc.abc,com']"
      ]
     },
     "execution_count": 49,
     "metadata": {},
     "output_type": "execute_result"
    }
   ],
   "source": [
    "import regex as re\n",
    "def tokenize(text):\n",
    "    return re.findall(r'abc\\.abc.com', text)\n",
    "\n",
    "x = tokenize(\"abc.abc.com abc.abc,com abc,abc.com ABC.abc.com \")\n",
    "x"
   ]
  },
  {
   "cell_type": "markdown",
   "id": "32192cc7",
   "metadata": {},
   "source": [
    "## Regex - 4"
   ]
  },
  {
   "cell_type": "code",
   "execution_count": 50,
   "id": "da77fd96",
   "metadata": {},
   "outputs": [
    {
     "name": "stdout",
     "output_type": "stream",
     "text": [
      "['The']\n",
      "[]\n"
     ]
    }
   ],
   "source": [
    "import regex as re\n",
    "def tokenize(text):\n",
    "    return re.findall(r'^The', text)\n",
    "\n",
    "x = tokenize(\"Them \")\n",
    "print(x)\n",
    "y= tokenize(\"them\")\n",
    "print(y)"
   ]
  },
  {
   "cell_type": "markdown",
   "id": "a14eb6d0",
   "metadata": {},
   "source": [
    "## Regex - 5"
   ]
  },
  {
   "cell_type": "code",
   "execution_count": 51,
   "id": "843cb5bc",
   "metadata": {},
   "outputs": [
    {
     "name": "stdout",
     "output_type": "stream",
     "text": [
      "['Bye']\n",
      "[]\n"
     ]
    }
   ],
   "source": [
    "import regex as re\n",
    "def tokenize(text):\n",
    "    return re.findall(r'Bye$', text)\n",
    "\n",
    "x = tokenize(\"They said goodBye\")\n",
    "print(x)\n",
    "y= tokenize(\"He said goodBye \")\n",
    "print(y)"
   ]
  },
  {
   "cell_type": "markdown",
   "id": "74610c2e",
   "metadata": {},
   "source": [
    "## Regex - 6"
   ]
  },
  {
   "cell_type": "code",
   "execution_count": 52,
   "id": "657b03ea",
   "metadata": {},
   "outputs": [
    {
     "name": "stdout",
     "output_type": "stream",
     "text": [
      "['abc', 'xyz', 'xyz']\n"
     ]
    }
   ],
   "source": [
    "import regex as re\n",
    "def tokenize(text):\n",
    "    return re.findall(r'abc|xyz', text)\n",
    "\n",
    "x = tokenize(\"abcd xsdxyz xyz derf\")\n",
    "print(x)\n"
   ]
  },
  {
   "cell_type": "markdown",
   "id": "7b6ea621",
   "metadata": {},
   "source": [
    "## Regex - 7"
   ]
  },
  {
   "cell_type": "code",
   "execution_count": 53,
   "id": "76007dab",
   "metadata": {},
   "outputs": [
    {
     "name": "stdout",
     "output_type": "stream",
     "text": [
      "['Homer Simpson', 'Marge Simpson']\n",
      "['Homer', 'Marge']\n"
     ]
    }
   ],
   "source": [
    "import regex as re\n",
    "def tokenize1(text):\n",
    "    return re.findall(r'Homer Simpson|Marge Simpson', text)\n",
    "\n",
    "def tokenize2(text):\n",
    "    return re.findall(r'(Homer|Marge) Simpson', text)\n",
    "\n",
    "x = tokenize1(\"Homer Williams Homer Simpson Marge Simpson\")\n",
    "print(x)\n",
    "x = tokenize2(\"Homer Williams Homer Simpson Marge Simpson\")\n",
    "print(x)"
   ]
  },
  {
   "cell_type": "markdown",
   "id": "854415c1",
   "metadata": {},
   "source": [
    "## Regex - 8"
   ]
  },
  {
   "cell_type": "code",
   "execution_count": 54,
   "id": "cf29bdbd",
   "metadata": {},
   "outputs": [
    {
     "name": "stdout",
     "output_type": "stream",
     "text": [
      "['abc', 'ab', 'abcccc', 'ab', 'abcccccccc', 'ab']\n"
     ]
    }
   ],
   "source": [
    "import regex as re\n",
    "def tokenize(text):\n",
    "    return re.findall(r'abc*', text)\n",
    "x = tokenize(\"abcd ab abcccc acb abbbbc abcccccccc fabulous\")\n",
    "print(x)"
   ]
  }
 ],
 "metadata": {
  "kernelspec": {
   "display_name": "Python 3 (ipykernel)",
   "language": "python",
   "name": "python3"
  },
  "language_info": {
   "codemirror_mode": {
    "name": "ipython",
    "version": 3
   },
   "file_extension": ".py",
   "mimetype": "text/x-python",
   "name": "python",
   "nbconvert_exporter": "python",
   "pygments_lexer": "ipython3",
   "version": "3.11.5"
  }
 },
 "nbformat": 4,
 "nbformat_minor": 5
}
