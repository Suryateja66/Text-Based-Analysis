{
 "cells": [
  {
   "cell_type": "markdown",
   "id": "5fd02c7f",
   "metadata": {},
   "source": [
    "# Loading and Preprocessing Data"
   ]
  },
  {
   "cell_type": "code",
   "execution_count": 1,
   "id": "4031d2bf",
   "metadata": {},
   "outputs": [
    {
     "data": {
      "text/html": [
       "<div>\n",
       "<style scoped>\n",
       "    .dataframe tbody tr th:only-of-type {\n",
       "        vertical-align: middle;\n",
       "    }\n",
       "\n",
       "    .dataframe tbody tr th {\n",
       "        vertical-align: top;\n",
       "    }\n",
       "\n",
       "    .dataframe thead th {\n",
       "        text-align: right;\n",
       "    }\n",
       "</style>\n",
       "<table border=\"1\" class=\"dataframe\">\n",
       "  <thead>\n",
       "    <tr style=\"text-align: right;\">\n",
       "      <th></th>\n",
       "      <th>published_date</th>\n",
       "      <th>rating</th>\n",
       "      <th>type</th>\n",
       "      <th>helpful_votes</th>\n",
       "      <th>title</th>\n",
       "      <th>text</th>\n",
       "    </tr>\n",
       "  </thead>\n",
       "  <tbody>\n",
       "    <tr>\n",
       "      <th>2856</th>\n",
       "      <td>2019-06-04T17:06:34-04:00</td>\n",
       "      <td>1</td>\n",
       "      <td>review</td>\n",
       "      <td>0</td>\n",
       "      <td>management is very bad</td>\n",
       "      <td>the flight was supposed to start @1:30 for whi...</td>\n",
       "    </tr>\n",
       "    <tr>\n",
       "      <th>370</th>\n",
       "      <td>2023-11-18T03:32:28-05:00</td>\n",
       "      <td>1</td>\n",
       "      <td>review</td>\n",
       "      <td>0</td>\n",
       "      <td>WORST AIRLINE EVER</td>\n",
       "      <td>They made us wait 12 hours had a technical pro...</td>\n",
       "    </tr>\n",
       "    <tr>\n",
       "      <th>668</th>\n",
       "      <td>2023-06-02T12:49:04-04:00</td>\n",
       "      <td>1</td>\n",
       "      <td>review</td>\n",
       "      <td>1</td>\n",
       "      <td>Tried again after 20 years but no improvement</td>\n",
       "      <td>I booked a flight to India via Air India in Ju...</td>\n",
       "    </tr>\n",
       "    <tr>\n",
       "      <th>2530</th>\n",
       "      <td>2019-08-07T05:50:37-04:00</td>\n",
       "      <td>2</td>\n",
       "      <td>review</td>\n",
       "      <td>2</td>\n",
       "      <td>Bad experience and no help from the flight com...</td>\n",
       "      <td>We travelled from Mumbai to Goa, where the fli...</td>\n",
       "    </tr>\n",
       "    <tr>\n",
       "      <th>2644</th>\n",
       "      <td>2019-07-09T19:56:57-04:00</td>\n",
       "      <td>5</td>\n",
       "      <td>review</td>\n",
       "      <td>0</td>\n",
       "      <td>Most underrated</td>\n",
       "      <td>On time and good service. Very smooth touchdow...</td>\n",
       "    </tr>\n",
       "    <tr>\n",
       "      <th>3251</th>\n",
       "      <td>2019-02-26T19:38:00-05:00</td>\n",
       "      <td>3</td>\n",
       "      <td>review</td>\n",
       "      <td>0</td>\n",
       "      <td>Worst nightmare airlines - AIR India.</td>\n",
       "      <td>At most times the flight would be delayed or c...</td>\n",
       "    </tr>\n",
       "    <tr>\n",
       "      <th>1561</th>\n",
       "      <td>2020-06-14T13:08:28-04:00</td>\n",
       "      <td>1</td>\n",
       "      <td>review</td>\n",
       "      <td>0</td>\n",
       "      <td>Worst Airline Ever!</td>\n",
       "      <td>The Customer Service is a joke!! I have tried ...</td>\n",
       "    </tr>\n",
       "    <tr>\n",
       "      <th>2283</th>\n",
       "      <td>2019-10-13T07:18:25-04:00</td>\n",
       "      <td>1</td>\n",
       "      <td>review</td>\n",
       "      <td>1</td>\n",
       "      <td>Missed connecting flight</td>\n",
       "      <td>We were travelling from Varanasi to Delhi and ...</td>\n",
       "    </tr>\n",
       "    <tr>\n",
       "      <th>1161</th>\n",
       "      <td>2022-03-08T08:59:57-05:00</td>\n",
       "      <td>1</td>\n",
       "      <td>review</td>\n",
       "      <td>0</td>\n",
       "      <td>Mr Gill</td>\n",
       "      <td>AVOID BOOKING VIA AIR INDIA WEBSITE!!! Been ov...</td>\n",
       "    </tr>\n",
       "    <tr>\n",
       "      <th>3837</th>\n",
       "      <td>2018-11-11T11:31:22-05:00</td>\n",
       "      <td>4</td>\n",
       "      <td>review</td>\n",
       "      <td>0</td>\n",
       "      <td>Multicity ticket with Air India. Very useful.I...</td>\n",
       "      <td>I have visited India last September 2018 with ...</td>\n",
       "    </tr>\n",
       "  </tbody>\n",
       "</table>\n",
       "</div>"
      ],
      "text/plain": [
       "                 published_date  rating    type  helpful_votes  \\\n",
       "2856  2019-06-04T17:06:34-04:00       1  review              0   \n",
       "370   2023-11-18T03:32:28-05:00       1  review              0   \n",
       "668   2023-06-02T12:49:04-04:00       1  review              1   \n",
       "2530  2019-08-07T05:50:37-04:00       2  review              2   \n",
       "2644  2019-07-09T19:56:57-04:00       5  review              0   \n",
       "3251  2019-02-26T19:38:00-05:00       3  review              0   \n",
       "1561  2020-06-14T13:08:28-04:00       1  review              0   \n",
       "2283  2019-10-13T07:18:25-04:00       1  review              1   \n",
       "1161  2022-03-08T08:59:57-05:00       1  review              0   \n",
       "3837  2018-11-11T11:31:22-05:00       4  review              0   \n",
       "\n",
       "                                                  title  \\\n",
       "2856                             management is very bad   \n",
       "370                                 WORST AIRLINE EVER    \n",
       "668       Tried again after 20 years but no improvement   \n",
       "2530  Bad experience and no help from the flight com...   \n",
       "2644                                    Most underrated   \n",
       "3251              Worst nightmare airlines - AIR India.   \n",
       "1561                                Worst Airline Ever!   \n",
       "2283                           Missed connecting flight   \n",
       "1161                                            Mr Gill   \n",
       "3837  Multicity ticket with Air India. Very useful.I...   \n",
       "\n",
       "                                                   text  \n",
       "2856  the flight was supposed to start @1:30 for whi...  \n",
       "370   They made us wait 12 hours had a technical pro...  \n",
       "668   I booked a flight to India via Air India in Ju...  \n",
       "2530  We travelled from Mumbai to Goa, where the fli...  \n",
       "2644  On time and good service. Very smooth touchdow...  \n",
       "3251  At most times the flight would be delayed or c...  \n",
       "1561  The Customer Service is a joke!! I have tried ...  \n",
       "2283  We were travelling from Varanasi to Delhi and ...  \n",
       "1161  AVOID BOOKING VIA AIR INDIA WEBSITE!!! Been ov...  \n",
       "3837  I have visited India last September 2018 with ...  "
      ]
     },
     "execution_count": 1,
     "metadata": {},
     "output_type": "execute_result"
    }
   ],
   "source": [
    "import pandas as pd\n",
    "# Reading JSON file into a DataFrame\n",
    "df = pd.read_csv(\"D:\\\\Text Based Analysis Sem 2\\\\air_india_reviews.csv\")\n",
    "# Displaying a random sample of 10 rows from the DataFrame\n",
    "df.sample(10)"
   ]
  },
  {
   "cell_type": "markdown",
   "id": "7550d650",
   "metadata": {},
   "source": [
    "# Sentiment Analysis Setup"
   ]
  },
  {
   "cell_type": "code",
   "execution_count": 2,
   "id": "abcdaf97",
   "metadata": {},
   "outputs": [
    {
     "name": "stderr",
     "output_type": "stream",
     "text": [
      "[nltk_data] Downloading package opinion_lexicon to\n",
      "[nltk_data]     C:\\Users\\tejas\\AppData\\Roaming\\nltk_data...\n",
      "[nltk_data]   Package opinion_lexicon is already up-to-date!\n"
     ]
    }
   ],
   "source": [
    "# Importing the preprocessing module from the scikit-learn library\n",
    "from sklearn import preprocessing\n",
    "# Importing the Natural Language Toolkit (NLTK)\n",
    "import nltk\n",
    "# Downloading the opinion lexicon dataset from NLTK\n",
    "nltk.download('opinion_lexicon')\n",
    "# Importing the opinion_lexicon dataset from the NLTK corpus module\n",
    "from nltk.corpus import opinion_lexicon\n",
    "# Importing the word_tokenize function from the NLTK tokenize module\n",
    "from nltk.tokenize import word_tokenize"
   ]
  },
  {
   "cell_type": "code",
   "execution_count": 3,
   "id": "915e4205",
   "metadata": {},
   "outputs": [
    {
     "name": "stdout",
     "output_type": "stream",
     "text": [
      "Total number of words in opinion lexicon 6789\n",
      "Examples of positive words in opinion lexicon ['a+', 'abound', 'abounds', 'abundance', 'abundant', 'accessable', 'accessible', 'acclaim', 'acclaimed', 'acclamation']\n",
      "Examples of negative words in opinion lexicon ['2-faced', '2-faces', 'abnormal', 'abolish', 'abominable', 'abominably', 'abominate', 'abomination', 'abort', 'aborted']\n"
     ]
    }
   ],
   "source": [
    "# Printing the total number of words in the opinion_lexicon dataset\n",
    "print('Total number of words in opinion lexicon', len(opinion_lexicon.words()))\n",
    "# Printing examples of positive words in the opinion_lexicon dataset\n",
    "print('Examples of positive words in opinion lexicon',\n",
    "opinion_lexicon.positive()[:10])\n",
    "# Printing examples of negative words in the opinion_lexicon dataset\n",
    "print('Examples of negative words in opinion lexicon',\n",
    "opinion_lexicon.negative()[:10])"
   ]
  },
  {
   "cell_type": "markdown",
   "id": "ed8b4b36",
   "metadata": {},
   "source": [
    "# Applying Sentiment Analysis"
   ]
  },
  {
   "cell_type": "code",
   "execution_count": 4,
   "id": "a6c4dfec",
   "metadata": {},
   "outputs": [
    {
     "name": "stderr",
     "output_type": "stream",
     "text": [
      "[nltk_data] Downloading package punkt to\n",
      "[nltk_data]     C:\\Users\\tejas\\AppData\\Roaming\\nltk_data...\n",
      "[nltk_data]   Package punkt is already up-to-date!\n"
     ]
    }
   ],
   "source": [
    "# Let's create a dictionary which we can use for scoring our review text\n",
    "# Downloading the 'punkt' tokenizer from NLTK, which is required for word tokenization\n",
    "nltk.download('punkt')\n",
    "# Renaming the column 'reviewText' to 'text' for consistency and clarity\n",
    "df.rename(columns={\"text\": \"text\"}, inplace=True)\n",
    "# Assigning positive and negative scores for sentiment analysis\n",
    "pos_score = 1\n",
    "neg_score = -1\n",
    "# Creating an empty dictionary to store word scores for sentiment analysis\n",
    "word_dict = {}"
   ]
  },
  {
   "cell_type": "markdown",
   "id": "b4b75059",
   "metadata": {},
   "source": [
    "# Data Exploration"
   ]
  },
  {
   "cell_type": "code",
   "execution_count": 5,
   "id": "73554b50",
   "metadata": {},
   "outputs": [],
   "source": [
    "# Adding the positive words to the dictionary\n",
    "for word in opinion_lexicon.positive():\n",
    "    word_dict[word] = pos_score"
   ]
  },
  {
   "cell_type": "markdown",
   "id": "efcc2610",
   "metadata": {},
   "source": [
    "# Function to Calculate Sentiment Score using Bing Liu's Lexicon"
   ]
  },
  {
   "cell_type": "code",
   "execution_count": 6,
   "id": "88acf2d8",
   "metadata": {},
   "outputs": [],
   "source": [
    "# Define a function to calculate the sentiment score of a given text using Bing Liu's lexicon.\n",
    "def bing_liu_score(text):\n",
    "    sentiment_score = 0 # Initialize the sentiment score to zero.\n",
    "    bag_of_words = word_tokenize(text.lower())\n",
    "    # Iterate over each word in the bag of words.\n",
    "    for word in bag_of_words:\n",
    "        # Check if the word exists in the word dictionary.\n",
    "        if word in word_dict:\n",
    "            sentiment_score += word_dict[word]\n",
    "    return sentiment_score # Return the final sentiment score of the text."
   ]
  },
  {
   "cell_type": "markdown",
   "id": "6f89c6d1",
   "metadata": {},
   "source": [
    "# Data Preprocessing and Sentiment Analysis"
   ]
  },
  {
   "cell_type": "code",
   "execution_count": 7,
   "id": "1da43311",
   "metadata": {},
   "outputs": [],
   "source": [
    "# Fill missing values in the 'text' column with 'no review'\n",
    "df['text'].fillna('no review', inplace=True)\n",
    "# Apply the bing_liu_score function to calculate sentiment scores for each text in the 'text' column and create a new column 'Bing_Liu_Score'\n",
    "df['Bing_Liu_Score'] = df['text'].apply(bing_liu_score)"
   ]
  },
  {
   "cell_type": "markdown",
   "id": "467a49b1",
   "metadata": {},
   "source": [
    "# Displaying Selected Columns for Analysis"
   ]
  },
  {
   "cell_type": "code",
   "execution_count": 9,
   "id": "835ab873",
   "metadata": {},
   "outputs": [
    {
     "data": {
      "text/html": [
       "<div>\n",
       "<style scoped>\n",
       "    .dataframe tbody tr th:only-of-type {\n",
       "        vertical-align: middle;\n",
       "    }\n",
       "\n",
       "    .dataframe tbody tr th {\n",
       "        vertical-align: top;\n",
       "    }\n",
       "\n",
       "    .dataframe thead th {\n",
       "        text-align: right;\n",
       "    }\n",
       "</style>\n",
       "<table border=\"1\" class=\"dataframe\">\n",
       "  <thead>\n",
       "    <tr style=\"text-align: right;\">\n",
       "      <th></th>\n",
       "      <th>rating</th>\n",
       "      <th>text</th>\n",
       "      <th>Bing_Liu_Score</th>\n",
       "    </tr>\n",
       "  </thead>\n",
       "  <tbody>\n",
       "    <tr>\n",
       "      <th>0</th>\n",
       "      <td>1</td>\n",
       "      <td>From their side my baggage is broken but still...</td>\n",
       "      <td>0</td>\n",
       "    </tr>\n",
       "    <tr>\n",
       "      <th>1</th>\n",
       "      <td>1</td>\n",
       "      <td>I took AI 188 noon -9th March 2024 - it was de...</td>\n",
       "      <td>0</td>\n",
       "    </tr>\n",
       "    <tr>\n",
       "      <th>2</th>\n",
       "      <td>1</td>\n",
       "      <td>one of worst flight to fly with book one way l...</td>\n",
       "      <td>1</td>\n",
       "    </tr>\n",
       "    <tr>\n",
       "      <th>3</th>\n",
       "      <td>3</td>\n",
       "      <td>The positive aspects on my flight were: punctu...</td>\n",
       "      <td>5</td>\n",
       "    </tr>\n",
       "    <tr>\n",
       "      <th>4</th>\n",
       "      <td>1</td>\n",
       "      <td>Extremally poor services in flight, aircraft i...</td>\n",
       "      <td>4</td>\n",
       "    </tr>\n",
       "    <tr>\n",
       "      <th>5</th>\n",
       "      <td>1</td>\n",
       "      <td>i booked a flight del to Vancouver and return ...</td>\n",
       "      <td>0</td>\n",
       "    </tr>\n",
       "    <tr>\n",
       "      <th>6</th>\n",
       "      <td>1</td>\n",
       "      <td>Very disappointed service and even they don’t ...</td>\n",
       "      <td>2</td>\n",
       "    </tr>\n",
       "    <tr>\n",
       "      <th>7</th>\n",
       "      <td>2</td>\n",
       "      <td>If a travelled with two kids staff not support...</td>\n",
       "      <td>2</td>\n",
       "    </tr>\n",
       "    <tr>\n",
       "      <th>8</th>\n",
       "      <td>1</td>\n",
       "      <td>Absolutely disgusting service. They said my se...</td>\n",
       "      <td>1</td>\n",
       "    </tr>\n",
       "    <tr>\n",
       "      <th>9</th>\n",
       "      <td>1</td>\n",
       "      <td>Very bad experience with baggage service, I la...</td>\n",
       "      <td>1</td>\n",
       "    </tr>\n",
       "  </tbody>\n",
       "</table>\n",
       "</div>"
      ],
      "text/plain": [
       "   rating                                               text  Bing_Liu_Score\n",
       "0       1  From their side my baggage is broken but still...               0\n",
       "1       1  I took AI 188 noon -9th March 2024 - it was de...               0\n",
       "2       1  one of worst flight to fly with book one way l...               1\n",
       "3       3  The positive aspects on my flight were: punctu...               5\n",
       "4       1  Extremally poor services in flight, aircraft i...               4\n",
       "5       1  i booked a flight del to Vancouver and return ...               0\n",
       "6       1  Very disappointed service and even they don’t ...               2\n",
       "7       2  If a travelled with two kids staff not support...               2\n",
       "8       1  Absolutely disgusting service. They said my se...               1\n",
       "9       1  Very bad experience with baggage service, I la...               1"
      ]
     },
     "execution_count": 9,
     "metadata": {},
     "output_type": "execute_result"
    }
   ],
   "source": [
    "# Displaying the first 10 rows of selected columns ('overall', 'text', 'Bing_Liu_Score')\n",
    "df[['rating',\"text\", 'Bing_Liu_Score']].head(10)"
   ]
  },
  {
   "cell_type": "markdown",
   "id": "d76cf816",
   "metadata": {},
   "source": [
    "# Grouping and Aggregating Sentiment Scores"
   ]
  },
  {
   "cell_type": "code",
   "execution_count": 10,
   "id": "44a70d5a",
   "metadata": {},
   "outputs": [
    {
     "data": {
      "text/html": [
       "<div>\n",
       "<style scoped>\n",
       "    .dataframe tbody tr th:only-of-type {\n",
       "        vertical-align: middle;\n",
       "    }\n",
       "\n",
       "    .dataframe tbody tr th {\n",
       "        vertical-align: top;\n",
       "    }\n",
       "\n",
       "    .dataframe thead th {\n",
       "        text-align: right;\n",
       "    }\n",
       "</style>\n",
       "<table border=\"1\" class=\"dataframe\">\n",
       "  <thead>\n",
       "    <tr style=\"text-align: right;\">\n",
       "      <th></th>\n",
       "      <th>Bing_Liu_Score</th>\n",
       "    </tr>\n",
       "    <tr>\n",
       "      <th>rating</th>\n",
       "      <th></th>\n",
       "    </tr>\n",
       "  </thead>\n",
       "  <tbody>\n",
       "    <tr>\n",
       "      <th>1</th>\n",
       "      <td>2.584187</td>\n",
       "    </tr>\n",
       "    <tr>\n",
       "      <th>2</th>\n",
       "      <td>3.339806</td>\n",
       "    </tr>\n",
       "    <tr>\n",
       "      <th>3</th>\n",
       "      <td>3.613008</td>\n",
       "    </tr>\n",
       "    <tr>\n",
       "      <th>4</th>\n",
       "      <td>4.616052</td>\n",
       "    </tr>\n",
       "    <tr>\n",
       "      <th>5</th>\n",
       "      <td>5.238160</td>\n",
       "    </tr>\n",
       "  </tbody>\n",
       "</table>\n",
       "</div>"
      ],
      "text/plain": [
       "        Bing_Liu_Score\n",
       "rating                \n",
       "1             2.584187\n",
       "2             3.339806\n",
       "3             3.613008\n",
       "4             4.616052\n",
       "5             5.238160"
      ]
     },
     "execution_count": 10,
     "metadata": {},
     "output_type": "execute_result"
    }
   ],
   "source": [
    "# Grouping the DataFrame by the 'overall' column and calculating the mean of 'Bing_Liu_Score' for each group\n",
    "df.groupby('rating').agg({'Bing_Liu_Score':'mean'})"
   ]
  },
  {
   "cell_type": "code",
   "execution_count": null,
   "id": "ac577e0e",
   "metadata": {},
   "outputs": [],
   "source": []
  }
 ],
 "metadata": {
  "kernelspec": {
   "display_name": "Python 3 (ipykernel)",
   "language": "python",
   "name": "python3"
  },
  "language_info": {
   "codemirror_mode": {
    "name": "ipython",
    "version": 3
   },
   "file_extension": ".py",
   "mimetype": "text/x-python",
   "name": "python",
   "nbconvert_exporter": "python",
   "pygments_lexer": "ipython3",
   "version": "3.11.5"
  }
 },
 "nbformat": 4,
 "nbformat_minor": 5
}
