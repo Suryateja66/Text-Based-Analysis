{
 "cells": [
  {
   "cell_type": "markdown",
   "id": "41f8bc02",
   "metadata": {},
   "source": [
    "# Basic String Operations"
   ]
  },
  {
   "cell_type": "code",
   "execution_count": 115,
   "id": "2ff04ffc",
   "metadata": {},
   "outputs": [
    {
     "name": "stdout",
     "output_type": "stream",
     "text": [
      "Hello World\n"
     ]
    }
   ],
   "source": [
    "#Assigning string to variable a\n",
    "a = \"Hello World\"\n",
    "\n",
    "#Printing the value of variable a\n",
    "print(a)"
   ]
  },
  {
   "cell_type": "markdown",
   "id": "a8adf30a",
   "metadata": {},
   "source": [
    "## Accessing Individual Letters"
   ]
  },
  {
   "cell_type": "code",
   "execution_count": 3,
   "id": "bce8cc45",
   "metadata": {},
   "outputs": [
    {
     "name": "stdout",
     "output_type": "stream",
     "text": [
      "u\n",
      "a\n"
     ]
    }
   ],
   "source": [
    "#Assigning string to variable name\n",
    "name = \"Surya\"\n",
    "\n",
    "#Printing index value of 1 of variable name\n",
    "print(name[1])\n",
    "\n",
    "#Printing index value of -1 of variable name\n",
    "print(name[-1])"
   ]
  },
  {
   "cell_type": "code",
   "execution_count": 5,
   "id": "5656c01f",
   "metadata": {},
   "outputs": [
    {
     "name": "stdout",
     "output_type": "stream",
     "text": [
      "ury\n",
      "rya\n"
     ]
    }
   ],
   "source": [
    "#Assigning string to variable name\n",
    "name = \"Surya\"\n",
    "\n",
    "#Printing the substring of the variable name from index 1 to index 4\n",
    "print(name[1:4])\n",
    "\n",
    "#Printing the substring of the variable name from index 2 to the end\n",
    "print(name[2:])"
   ]
  },
  {
   "cell_type": "markdown",
   "id": "1c13b1e0",
   "metadata": {},
   "source": [
    "## String Length"
   ]
  },
  {
   "cell_type": "code",
   "execution_count": 6,
   "id": "dbca1373",
   "metadata": {},
   "outputs": [
    {
     "name": "stdout",
     "output_type": "stream",
     "text": [
      "10\n"
     ]
    }
   ],
   "source": [
    "#Assigning string to variable name\n",
    "name = \"Surya Teja\"\n",
    "\n",
    "#Printing the length of the name\n",
    "print(len(name))"
   ]
  },
  {
   "cell_type": "markdown",
   "id": "e7702adc",
   "metadata": {},
   "source": [
    "## String Replace"
   ]
  },
  {
   "cell_type": "code",
   "execution_count": 7,
   "id": "b4d4ce39",
   "metadata": {},
   "outputs": [
    {
     "name": "stdout",
     "output_type": "stream",
     "text": [
      "Svrya\n"
     ]
    }
   ],
   "source": [
    "#Assigning string to variable name\n",
    "name = \"Surya\"\n",
    "\n",
    "#Using replace(old, new) to replace new with the old\n",
    "print(name.replace(\"u\", \"v\"))"
   ]
  },
  {
   "cell_type": "markdown",
   "id": "62775af1",
   "metadata": {},
   "source": [
    "# String ConcatenATION"
   ]
  },
  {
   "cell_type": "code",
   "execution_count": 9,
   "id": "e9996ef6",
   "metadata": {},
   "outputs": [
    {
     "name": "stdout",
     "output_type": "stream",
     "text": [
      "Surya Teja\n"
     ]
    }
   ],
   "source": [
    "#Assigning string to variable fname\n",
    "fname = \"Surya\"\n",
    "\n",
    "#Assigning string to variable lname\n",
    "lname = \"Teja\"\n",
    "\n",
    "#Concatenating fname and lname to variable full_name\n",
    "full_name = fname + \" \" + lname\n",
    "\n",
    "#Printing the value of a variable full_name\n",
    "print(full_name)"
   ]
  },
  {
   "cell_type": "markdown",
   "id": "71a7b138",
   "metadata": {},
   "source": [
    "# STRING METHODS"
   ]
  },
  {
   "cell_type": "markdown",
   "id": "b676fe27",
   "metadata": {},
   "source": [
    "## isspace()"
   ]
  },
  {
   "cell_type": "code",
   "execution_count": 14,
   "id": "11bd92f0",
   "metadata": {},
   "outputs": [
    {
     "name": "stdout",
     "output_type": "stream",
     "text": [
      "True\n",
      "False\n"
     ]
    }
   ],
   "source": [
    "#Assigning string to a variable name\n",
    "name = ' '\n",
    "\n",
    "#Using isspace() to check if all the characters in the string contains spaces or not\n",
    "print(name.isspace())\n",
    "\n",
    "#Assigning string to a variable name\n",
    "name = 'Surya Teja'\n",
    "\n",
    "#Using isspace() to check if all the characters in the string contains spaces or not\n",
    "print(name.isspace())"
   ]
  },
  {
   "cell_type": "markdown",
   "id": "445462eb",
   "metadata": {},
   "source": [
    "## isupper()"
   ]
  },
  {
   "cell_type": "code",
   "execution_count": 15,
   "id": "c4befd55",
   "metadata": {},
   "outputs": [
    {
     "name": "stdout",
     "output_type": "stream",
     "text": [
      "True\n",
      "False\n"
     ]
    }
   ],
   "source": [
    "#Assigning string to a variable name\n",
    "name = 'SURYA TEJA'\n",
    "\n",
    "#Using isupper() to check if all the characters in the string are in uppercase or not\n",
    "print(name.isupper())\n",
    "\n",
    "#Assigning string to a variable name\n",
    "name = 'Surya Teja'\n",
    "\n",
    "#Using isupper() to check if all the characters in the string are in uppercase or not\n",
    "print(name.isupper())"
   ]
  },
  {
   "cell_type": "markdown",
   "id": "13388f95",
   "metadata": {},
   "source": [
    "## islower()"
   ]
  },
  {
   "cell_type": "code",
   "execution_count": 16,
   "id": "f8d7d40b",
   "metadata": {},
   "outputs": [
    {
     "name": "stdout",
     "output_type": "stream",
     "text": [
      "True\n",
      "False\n"
     ]
    }
   ],
   "source": [
    "#Assigning string to a variable name\n",
    "name = 'surya teja'\n",
    "\n",
    "#Using islower() to check if all the characters in the string are in lowercase or not\n",
    "print(name.islower())\n",
    "\n",
    "#Assigning string to a variable name\n",
    "name = 'Surya Teja'\n",
    "\n",
    "#Using islower() to check if all the characters in the string are in lowercase or not\n",
    "print(name.islower())"
   ]
  },
  {
   "cell_type": "markdown",
   "id": "60e79e6d",
   "metadata": {},
   "source": [
    "## isalnum()"
   ]
  },
  {
   "cell_type": "code",
   "execution_count": 19,
   "id": "4739dc17",
   "metadata": {},
   "outputs": [
    {
     "name": "stdout",
     "output_type": "stream",
     "text": [
      "True\n",
      "True\n",
      "False\n"
     ]
    }
   ],
   "source": [
    "#Assigning string to a variable name\n",
    "name = 'Surya'\n",
    "\n",
    "#Using isalnum() to check all the above characters in the string are alphanumeric or not\n",
    "print(name.isalnum())\n",
    "\n",
    "#Assigning string to a variable name\n",
    "name = 'Surya2006'\n",
    "\n",
    "#Using isalnum() to check all the above characters in the string are alphanumeric or not\n",
    "print(name.isalnum())\n",
    "\n",
    "#Assigning string 'Hima 123' to a variable name\n",
    "name = 'Surya 2006'\n",
    "\n",
    "#Using isalnum() to check all the above characters in the string are alphanumeric or not\n",
    "print(name.isalnum())"
   ]
  },
  {
   "cell_type": "markdown",
   "id": "8cde6ba0",
   "metadata": {},
   "source": [
    "## isalpha()"
   ]
  },
  {
   "cell_type": "code",
   "execution_count": 23,
   "id": "53e44c1b",
   "metadata": {},
   "outputs": [
    {
     "name": "stdout",
     "output_type": "stream",
     "text": [
      "True\n",
      "False\n"
     ]
    }
   ],
   "source": [
    "#Assigning string to a variable name\n",
    "name = 'Surya'\n",
    "\n",
    "#Using isalpha() to check all the characters in the string are alphabetic or not\n",
    "print(name.isalpha())\n",
    "\n",
    "#Assigning string to a variable name\n",
    "name = 'Surya2006'\n",
    "\n",
    "#Using isalpha() to check all the characters in the string are alphabetic or not\n",
    "print(name.isalpha())\n"
   ]
  },
  {
   "cell_type": "markdown",
   "id": "50c2904c",
   "metadata": {},
   "source": [
    "## isdigit()"
   ]
  },
  {
   "cell_type": "code",
   "execution_count": 24,
   "id": "f351e787",
   "metadata": {},
   "outputs": [
    {
     "name": "stdout",
     "output_type": "stream",
     "text": [
      "True\n",
      "False\n"
     ]
    }
   ],
   "source": [
    "#Assigning string to a variable name\n",
    "name = '2006'\n",
    "\n",
    "#Using isdigit() to check all the characters in the string are digits\n",
    "print(name.isdigit())\n",
    "\n",
    "#Assigning string to a variable name\n",
    "name = 'Surya2006'\n",
    "\n",
    "#Using isdigit() to check all the characters in the string are digits\n",
    "print(name.isdigit())\n"
   ]
  },
  {
   "cell_type": "markdown",
   "id": "9481908f",
   "metadata": {},
   "source": [
    "## startswith(char)"
   ]
  },
  {
   "cell_type": "code",
   "execution_count": 25,
   "id": "d5f69309",
   "metadata": {},
   "outputs": [
    {
     "name": "stdout",
     "output_type": "stream",
     "text": [
      "True\n",
      "False\n"
     ]
    }
   ],
   "source": [
    "#Assigning string to a variable name\n",
    "name = 'surya'\n",
    "\n",
    "#Using startswith(char) to check the string starts with char\n",
    "print(name.startswith('s'))\n",
    "\n",
    "#Assigning string to a variable name\n",
    "name = 'surya'\n",
    "\n",
    "#Using startswith(char) to check the string starts with char\n",
    "print(name.startswith('a'))"
   ]
  },
  {
   "cell_type": "markdown",
   "id": "ca38d7f3",
   "metadata": {},
   "source": [
    "## endswith(char)"
   ]
  },
  {
   "cell_type": "code",
   "execution_count": 28,
   "id": "58f05691",
   "metadata": {},
   "outputs": [
    {
     "name": "stdout",
     "output_type": "stream",
     "text": [
      "True\n",
      "False\n"
     ]
    }
   ],
   "source": [
    "#Assigning string to a variable name\n",
    "name = 'Surya'\n",
    "\n",
    "#Using endswith(char) to check the above string ends with char\n",
    "print(name.endswith('a'))\n",
    "\n",
    "#Using endswith(char) to check the above string ends with char\n",
    "print(name.endswith('S'))"
   ]
  },
  {
   "cell_type": "markdown",
   "id": "985bca28",
   "metadata": {},
   "source": [
    "## find(substring)"
   ]
  },
  {
   "cell_type": "code",
   "execution_count": 30,
   "id": "46f32925",
   "metadata": {},
   "outputs": [
    {
     "name": "stdout",
     "output_type": "stream",
     "text": [
      "0\n",
      "6\n"
     ]
    }
   ],
   "source": [
    "#Assigning string 'Hima Varshini' to a variable name\n",
    "name = 'Surya Teja'\n",
    "\n",
    "#Using find(char) to return the lowest index of the character\n",
    "print(name.find('S'))\n",
    "\n",
    "#Using find(char) to return the lowest index of the character\n",
    "print(name.find('T'))"
   ]
  },
  {
   "cell_type": "markdown",
   "id": "ef0128f8",
   "metadata": {},
   "source": [
    "## Splitting a String"
   ]
  },
  {
   "cell_type": "code",
   "execution_count": 34,
   "id": "5dc202d8",
   "metadata": {},
   "outputs": [
    {
     "name": "stdout",
     "output_type": "stream",
     "text": [
      "['S', 'U', 'R', 'Y', 'A']\n"
     ]
    }
   ],
   "source": [
    "#Assigning string to a variable name\n",
    "name = 'S,U,R,Y,A'\n",
    "\n",
    "#Printing a list containing the words in the string\n",
    "print(name.split(','))"
   ]
  },
  {
   "cell_type": "markdown",
   "id": "47a79b5b",
   "metadata": {},
   "source": [
    "## lower()"
   ]
  },
  {
   "cell_type": "code",
   "execution_count": 36,
   "id": "73867cd9",
   "metadata": {},
   "outputs": [
    {
     "name": "stdout",
     "output_type": "stream",
     "text": [
      "surya\n"
     ]
    }
   ],
   "source": [
    "#Assigning string to a variable name\n",
    "name = 'SurYa'\n",
    "\n",
    "#Printing the string into lowercase\n",
    "print(name.lower())"
   ]
  },
  {
   "cell_type": "markdown",
   "id": "2c0a9b84",
   "metadata": {},
   "source": [
    "## upper()"
   ]
  },
  {
   "cell_type": "code",
   "execution_count": 38,
   "id": "ac7d60cd",
   "metadata": {},
   "outputs": [
    {
     "name": "stdout",
     "output_type": "stream",
     "text": [
      "SURYA\n"
     ]
    }
   ],
   "source": [
    "## String Method - \n",
    "#Assigning string to a variable name\n",
    "name = 'surya'\n",
    "\n",
    "#Printing the string into uppercase\n",
    "print(name.upper())"
   ]
  },
  {
   "cell_type": "markdown",
   "id": "e2906d30",
   "metadata": {},
   "source": [
    "## strip()"
   ]
  },
  {
   "cell_type": "code",
   "execution_count": 40,
   "id": "19edf040",
   "metadata": {},
   "outputs": [
    {
     "name": "stdout",
     "output_type": "stream",
     "text": [
      "   Surya Teja   \n",
      "Surya Teja\n"
     ]
    }
   ],
   "source": [
    "#Assigning string to a variable name\n",
    "name = '   Surya Teja   '\n",
    "\n",
    "#Printing the name of the string\n",
    "print(name)\n",
    "\n",
    "#Printing the strip() with all the white characters removed\n",
    "print(name.strip())"
   ]
  },
  {
   "cell_type": "markdown",
   "id": "3d256243",
   "metadata": {},
   "source": [
    "## strip(char)"
   ]
  },
  {
   "cell_type": "code",
   "execution_count": 45,
   "id": "6d71fccc",
   "metadata": {},
   "outputs": [
    {
     "name": "stdout",
     "output_type": "stream",
     "text": [
      " Surya Teja  \n",
      "Surya Teja\n"
     ]
    }
   ],
   "source": [
    "#Assigning string to a variable name\n",
    "name = ' Surya Teja  '\n",
    "\n",
    "#Printing the name of the string\n",
    "print(name)\n",
    "\n",
    "#Printing the strip() with all the white characters removed\n",
    "print(name.strip(' ur'))"
   ]
  },
  {
   "cell_type": "markdown",
   "id": "dad56383",
   "metadata": {},
   "source": [
    "## lstrip()"
   ]
  },
  {
   "cell_type": "code",
   "execution_count": 46,
   "id": "c38f0bee",
   "metadata": {},
   "outputs": [
    {
     "name": "stdout",
     "output_type": "stream",
     "text": [
      "  Surya Teja  \n",
      "Surya Teja  \n"
     ]
    }
   ],
   "source": [
    "#Assigning string to a variable name\n",
    "name = '  Surya Teja  '\n",
    "\n",
    "#Printing the name of the string\n",
    "print(name)\n",
    "\n",
    "#Returns a copy of the string with all leading whitespace characters removed\n",
    "print(name.lstrip())"
   ]
  },
  {
   "cell_type": "markdown",
   "id": "7065859a",
   "metadata": {},
   "source": [
    "## lstrip(char)"
   ]
  },
  {
   "cell_type": "code",
   "execution_count": 48,
   "id": "de25c1f6",
   "metadata": {},
   "outputs": [
    {
     "name": "stdout",
     "output_type": "stream",
     "text": [
      "  Surya Teja  \n",
      "rya Teja  \n",
      "a Teja  \n"
     ]
    }
   ],
   "source": [
    "#Assigning string to a variable name\n",
    "name = '  Surya Teja  '\n",
    "\n",
    "#Printing the name of the string\n",
    "print(name)\n",
    "\n",
    "#Using lstrip(char) to remove leading spaces and characters\n",
    "print(name.lstrip(' Su'))\n",
    "\n",
    "#Using lstrip(char) to remove leading spaces and characters\n",
    "print(name.lstrip(' Sury'))"
   ]
  },
  {
   "cell_type": "markdown",
   "id": "e6fff1a0",
   "metadata": {},
   "source": [
    "## rstrip()"
   ]
  },
  {
   "cell_type": "code",
   "execution_count": 49,
   "id": "78883834",
   "metadata": {},
   "outputs": [
    {
     "name": "stdout",
     "output_type": "stream",
     "text": [
      "  Surya Teja  \n",
      "  Surya Teja\n"
     ]
    }
   ],
   "source": [
    "#Assigning string to a variable name\n",
    "name = '  Surya Teja  '\n",
    "\n",
    "#Printing the name of the string\n",
    "print(name)\n",
    "\n",
    "#Returns a copy of the string with all trailing whitespace characters removed\n",
    "print(name.rstrip())"
   ]
  },
  {
   "cell_type": "markdown",
   "id": "ebfa49e9",
   "metadata": {},
   "source": [
    "## rstrip(char)"
   ]
  },
  {
   "cell_type": "code",
   "execution_count": 55,
   "id": "7af975f7",
   "metadata": {},
   "outputs": [
    {
     "name": "stdout",
     "output_type": "stream",
     "text": [
      "   Surya Teja   \n",
      "   Surya Te\n",
      "   Sury\n"
     ]
    }
   ],
   "source": [
    "#Assigning string to a variable name\n",
    "name = '   Surya Teja   '\n",
    "\n",
    "#Printing the name of the string\n",
    "print(name)\n",
    "\n",
    "#Using rstrip(char) to remove trailing spaces and characters\n",
    "print(name.rstrip(' ja'))\n",
    "\n",
    "#Using rstrip(char) to remove trailing spaces and characters\n",
    "print(name.rstrip(' Teja'))"
   ]
  },
  {
   "cell_type": "markdown",
   "id": "e2f11c54",
   "metadata": {},
   "source": [
    "# REGULAR EXPRESSIONS"
   ]
  },
  {
   "cell_type": "code",
   "execution_count": 90,
   "id": "251e2968",
   "metadata": {},
   "outputs": [
    {
     "name": "stdout",
     "output_type": "stream",
     "text": [
      "['surya@gmail.com', 'hi@gmail.com']\n"
     ]
    }
   ],
   "source": [
    "# Regex-1: Email address pattern\n",
    "\n",
    "import regex as re \n",
    "def tokenize(text):\n",
    "    return re.findall(r'[a-zA-Z_\\-]+@gmail.com', text)\n",
    "\n",
    "x= tokenize(\"surya@gmail.com hi@gmail.com .com hello123\")\n",
    "print(x)"
   ]
  },
  {
   "cell_type": "code",
   "execution_count": 104,
   "id": "7be62878",
   "metadata": {},
   "outputs": [
    {
     "name": "stdout",
     "output_type": "stream",
     "text": [
      "['zelle']\n",
      "[]\n"
     ]
    }
   ],
   "source": [
    "# Regex-2: Matches the beginning of the line - ^\n",
    "\n",
    "import regex as re\n",
    "def tokenize(text):\n",
    "    return re.findall(r'^zelle', text)\n",
    "                      \n",
    "x = tokenize(\"zelle payment\")\n",
    "print(x)\n",
    "\n",
    "y = tokenize(\"e\")\n",
    "print(y)"
   ]
  },
  {
   "cell_type": "code",
   "execution_count": 106,
   "id": "530702bd",
   "metadata": {},
   "outputs": [
    {
     "name": "stdout",
     "output_type": "stream",
     "text": [
      "['zelle']\n",
      "[]\n"
     ]
    }
   ],
   "source": [
    "# Regex-3: Matches the ending of the line - $\n",
    "\n",
    "import regex as re\n",
    "def tokenize(text):\n",
    "    return re.findall(r'zelle$', text)\n",
    "\n",
    "x = tokenize(\"Received payment via zelle\")\n",
    "print(x)\n",
    "\n",
    "y = tokenize(\"Received\")\n",
    "print(y)"
   ]
  },
  {
   "cell_type": "code",
   "execution_count": 108,
   "id": "4853246f",
   "metadata": {},
   "outputs": [
    {
     "name": "stdout",
     "output_type": "stream",
     "text": [
      "['xyz', 'xyz', 'hij']\n"
     ]
    }
   ],
   "source": [
    "## Regex-4: OR\n",
    "\n",
    "import regex as re\n",
    "def tokenize(text):\n",
    "    return re.findall(r'hij|xyz', text)\n",
    "\n",
    "x = tokenize(\"abcxyz abc xyz hijs xzy adbxzy\")\n",
    "print(x)"
   ]
  },
  {
   "cell_type": "code",
   "execution_count": 112,
   "id": "81c01888",
   "metadata": {},
   "outputs": [
    {
     "name": "stdout",
     "output_type": "stream",
     "text": [
      "['jkk', 'jk', 'jk']\n"
     ]
    }
   ],
   "source": [
    "## Regex-5: *\n",
    "\n",
    "import regex as re\n",
    "def tokenize(text):\n",
    "    return re.findall(r'jk*', text)\n",
    "\n",
    "x = tokenize(\"hijkk jk ijk kkk thkkk\")\n",
    "print(x)"
   ]
  },
  {
   "cell_type": "code",
   "execution_count": 114,
   "id": "e35c8bea",
   "metadata": {},
   "outputs": [
    {
     "name": "stdout",
     "output_type": "stream",
     "text": [
      "['pill', 'cill', 'cull', 'dull']\n"
     ]
    }
   ],
   "source": [
    "## Regex-6: Matches any character except \\n\n",
    "\n",
    "\n",
    "import regex as re\n",
    "def tokenize(text):\n",
    "    return re.findall(r'..ll', text)\n",
    "\n",
    "x = tokenize(\"pill cill duii cull dull\")\n",
    "print(x)\n",
    "\n"
   ]
  }
 ],
 "metadata": {
  "kernelspec": {
   "display_name": "Python 3 (ipykernel)",
   "language": "python",
   "name": "python3"
  },
  "language_info": {
   "codemirror_mode": {
    "name": "ipython",
    "version": 3
   },
   "file_extension": ".py",
   "mimetype": "text/x-python",
   "name": "python",
   "nbconvert_exporter": "python",
   "pygments_lexer": "ipython3",
   "version": "3.11.5"
  }
 },
 "nbformat": 4,
 "nbformat_minor": 5
}
